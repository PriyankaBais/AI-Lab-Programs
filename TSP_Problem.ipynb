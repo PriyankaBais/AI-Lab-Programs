{
 "cells": [
  {
   "cell_type": "code",
   "execution_count": 1,
   "id": "c552319d-8841-4468-b65d-acdd3f355922",
   "metadata": {},
   "outputs": [
    {
     "name": "stdout",
     "output_type": "stream",
     "text": [
      "([3, 1, 0, 2], 80)\n"
     ]
    }
   ],
   "source": [
    "import random\n",
    "\n",
    "def distance(matrix, path):\n",
    "    return sum(matrix[path[i]][path[i + 1]] for i in range(len(path) - 1)) + matrix[path[-1]][path[0]]\n",
    "\n",
    "def neighbors(path):\n",
    "    return [path[:i] + [path[j]] + path[i+1:j] + [path[i]] + path[j+1:] \n",
    "            for i in range(len(path) - 1) for j in range(i + 1, len(path))]\n",
    "\n",
    "def hill_climb(matrix):\n",
    "    path = random.sample(range(len(matrix)), len(matrix))\n",
    "    best_dist = distance(matrix, path)\n",
    "    \n",
    "    while True:\n",
    "        next_path = min(neighbors(path), key=lambda p: distance(matrix, p), default=None)\n",
    "        if not next_path or distance(matrix, next_path) >= best_dist:\n",
    "            break\n",
    "        path, best_dist = next_path, distance(matrix, next_path)\n",
    "    \n",
    "    return path, best_dist\n",
    "\n",
    "# distance between cities\n",
    "matrix = [\n",
    "    [0, 10, 15, 20],\n",
    "    [10, 0, 35, 25],\n",
    "    [15, 35, 0, 30],\n",
    "    [20, 25, 30, 0]\n",
    "]\n",
    "\n",
    "print(hill_climb(matrix))\n"
   ]
  },
  {
   "cell_type": "code",
   "execution_count": null,
   "id": "541ee23d-e9f0-471e-9ee7-86669f6eb8ff",
   "metadata": {},
   "outputs": [],
   "source": []
  }
 ],
 "metadata": {
  "kernelspec": {
   "display_name": "Python [conda env:base] *",
   "language": "python",
   "name": "conda-base-py"
  },
  "language_info": {
   "codemirror_mode": {
    "name": "ipython",
    "version": 3
   },
   "file_extension": ".py",
   "mimetype": "text/x-python",
   "name": "python",
   "nbconvert_exporter": "python",
   "pygments_lexer": "ipython3",
   "version": "3.12.7"
  }
 },
 "nbformat": 4,
 "nbformat_minor": 5
}
